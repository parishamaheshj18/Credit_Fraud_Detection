{
 "cells": [
  {
   "cell_type": "markdown",
   "metadata": {},
   "source": [
    "# ***CREDIT CARD FRAUD DETECTION***"
   ]
  },
  {
   "cell_type": "markdown",
   "metadata": {},
   "source": [
    "# ***Data Preparation:***"
   ]
  },
  {
   "cell_type": "markdown",
   "metadata": {},
   "source": [
    "# Import Libraries\n",
    "\n",
    "Let's start the project by impoprting all the libraries that we will need in this project."
   ]
  },
  {
   "cell_type": "code",
   "execution_count": null,
   "metadata": {
    "execution": {
     "iopub.execute_input": "2024-01-29T11:44:06.699573Z",
     "iopub.status.busy": "2024-01-29T11:44:06.699118Z",
     "iopub.status.idle": "2024-01-29T11:44:06.708423Z",
     "shell.execute_reply": "2024-01-29T11:44:06.707214Z",
     "shell.execute_reply.started": "2024-01-29T11:44:06.699539Z"
    }
   },
   "outputs": [],
   "source": [
    "# import libraries\n",
    "\n",
    "# 1. to handle the data\n",
    "import pandas as pd\n",
    "import numpy as np\n",
    "\n",
    "# to visualize the dataset\n",
    "import matplotlib.pyplot as plt\n",
    "import seaborn as sns\n",
    "import plotly.express as px\n",
    "\n",
    "# To preprocess the data\n",
    "from sklearn.preprocessing import StandardScaler, LabelEncoder, MinMaxScaler\n",
    "\n",
    "# machine learning\n",
    "from sklearn.model_selection import train_test_split, GridSearchCV, cross_val_score\n",
    "#for classification tasks\n",
    "from sklearn.linear_model import LogisticRegression\n",
    "from sklearn.neighbors import KNeighborsClassifier\n",
    "from sklearn.svm import SVC\n",
    "from sklearn.tree import DecisionTreeClassifier\n",
    "from sklearn.ensemble import RandomForestClassifier, AdaBoostClassifier, GradientBoostingClassifier, RandomForestRegressor\n",
    "from xgboost import XGBClassifier\n",
    "#metrics\n",
    "from sklearn.metrics import accuracy_score, f1_score, precision_score, recall_score\n",
    "\n",
    "# ignore warnings   \n",
    "import warnings\n",
    "warnings.filterwarnings('ignore')"
   ]
  },
  {
   "cell_type": "code",
   "execution_count": null,
   "metadata": {
    "execution": {
     "iopub.execute_input": "2024-01-29T11:44:06.71088Z",
     "iopub.status.busy": "2024-01-29T11:44:06.710505Z",
     "iopub.status.idle": "2024-01-29T11:44:10.518133Z",
     "shell.execute_reply": "2024-01-29T11:44:10.516909Z",
     "shell.execute_reply.started": "2024-01-29T11:44:06.710836Z"
    }
   },
   "outputs": [],
   "source": [
    "# load the data from csv file placed locally in our pc\n",
    "df = pd.read_csv('/kaggle/input/creditcardfraud/creditcard.csv')"
   ]
  },
  {
   "cell_type": "markdown",
   "metadata": {},
   "source": [
    "### Set the option to show maximum columns:"
   ]
  },
  {
   "cell_type": "code",
   "execution_count": null,
   "metadata": {
    "execution": {
     "iopub.execute_input": "2024-01-29T11:44:10.520468Z",
     "iopub.status.busy": "2024-01-29T11:44:10.519765Z",
     "iopub.status.idle": "2024-01-29T11:44:10.526911Z",
     "shell.execute_reply": "2024-01-29T11:44:10.525432Z",
     "shell.execute_reply.started": "2024-01-29T11:44:10.520407Z"
    }
   },
   "outputs": [],
   "source": [
    "pd.set_option('display.max_columns', None)"
   ]
  },
  {
   "cell_type": "code",
   "execution_count": null,
   "metadata": {
    "execution": {
     "iopub.execute_input": "2024-01-29T11:44:10.531015Z",
     "iopub.status.busy": "2024-01-29T11:44:10.530673Z",
     "iopub.status.idle": "2024-01-29T11:44:10.575514Z",
     "shell.execute_reply": "2024-01-29T11:44:10.574208Z",
     "shell.execute_reply.started": "2024-01-29T11:44:10.530987Z"
    }
   },
   "outputs": [],
   "source": [
    "# print the first 5 rows of the dataframe\n",
    "df.head(5)"
   ]
  },
  {
   "cell_type": "code",
   "execution_count": null,
   "metadata": {
    "execution": {
     "iopub.execute_input": "2024-01-29T11:44:10.57713Z",
     "iopub.status.busy": "2024-01-29T11:44:10.576815Z",
     "iopub.status.idle": "2024-01-29T11:44:10.605719Z",
     "shell.execute_reply": "2024-01-29T11:44:10.604438Z",
     "shell.execute_reply.started": "2024-01-29T11:44:10.577104Z"
    }
   },
   "outputs": [],
   "source": [
    "# exploring the datatype of each column\n",
    "df.info()"
   ]
  },
  {
   "cell_type": "markdown",
   "metadata": {},
   "source": [
    "### Let's have a look on the shape of the dataset:"
   ]
  },
  {
   "cell_type": "code",
   "execution_count": null,
   "metadata": {
    "execution": {
     "iopub.execute_input": "2024-01-29T11:44:10.607962Z",
     "iopub.status.busy": "2024-01-29T11:44:10.60757Z",
     "iopub.status.idle": "2024-01-29T11:44:10.614828Z",
     "shell.execute_reply": "2024-01-29T11:44:10.613627Z",
     "shell.execute_reply.started": "2024-01-29T11:44:10.607933Z"
    }
   },
   "outputs": [],
   "source": [
    "# data shpae\n",
    "df.shape"
   ]
  },
  {
   "cell_type": "markdown",
   "metadata": {},
   "source": [
    "### Lets see the column name:"
   ]
  },
  {
   "cell_type": "code",
   "execution_count": null,
   "metadata": {
    "execution": {
     "iopub.execute_input": "2024-01-29T11:44:10.616785Z",
     "iopub.status.busy": "2024-01-29T11:44:10.616435Z",
     "iopub.status.idle": "2024-01-29T11:44:10.628432Z",
     "shell.execute_reply": "2024-01-29T11:44:10.627296Z",
     "shell.execute_reply.started": "2024-01-29T11:44:10.616756Z"
    }
   },
   "outputs": [],
   "source": [
    "# Lets see the column name\n",
    "df.columns"
   ]
  },
  {
   "cell_type": "markdown",
   "metadata": {},
   "source": [
    "# Observation Set 1:\n",
    "- There are 284807 rows and 31 columns in the dataset.\n",
    "- The data type of all columns is numeric (int and float).\n",
    "-  The columns in the datasets are:\n",
    "   - 'Time', 'V1', 'V2', 'V3', 'V4', 'V5', 'V6', 'V7', 'V8', 'V9', 'V10',\n",
    "      'V11', 'V12', 'V13', 'V14', 'V15', 'V16', 'V17', 'V18', 'V19', 'V20',\n",
    "      'V21', 'V22', 'V23', 'V24', 'V25', 'V26', 'V27', 'V28', 'Amount',\n",
    "      'Class'"
   ]
  },
  {
   "cell_type": "markdown",
   "metadata": {},
   "source": [
    "---"
   ]
  },
  {
   "cell_type": "markdown",
   "metadata": {},
   "source": [
    "#  Descriptive Statistics:\n",
    "\n",
    "Descriptive statistics are a collection of quantitative measures that summarize and describe the main characteristics of a dataset."
   ]
  },
  {
   "cell_type": "code",
   "execution_count": null,
   "metadata": {
    "execution": {
     "iopub.execute_input": "2024-01-29T11:44:10.630156Z",
     "iopub.status.busy": "2024-01-29T11:44:10.629854Z",
     "iopub.status.idle": "2024-01-29T11:44:11.119538Z",
     "shell.execute_reply": "2024-01-29T11:44:11.118391Z",
     "shell.execute_reply.started": "2024-01-29T11:44:10.630131Z"
    }
   },
   "outputs": [],
   "source": [
    "# Summary Statistics\n",
    "df.describe()"
   ]
  },
  {
   "cell_type": "markdown",
   "metadata": {},
   "source": [
    "---"
   ]
  },
  {
   "cell_type": "markdown",
   "metadata": {},
   "source": [
    "## *** Normalization:***"
   ]
  },
  {
   "cell_type": "code",
   "execution_count": null,
   "metadata": {
    "execution": {
     "iopub.execute_input": "2024-01-29T11:44:11.121677Z",
     "iopub.status.busy": "2024-01-29T11:44:11.12131Z",
     "iopub.status.idle": "2024-01-29T11:44:11.266203Z",
     "shell.execute_reply": "2024-01-29T11:44:11.265063Z",
     "shell.execute_reply.started": "2024-01-29T11:44:11.121646Z"
    }
   },
   "outputs": [],
   "source": [
    "from sklearn.preprocessing import Normalizer\n",
    "\n",
    "normalizer = Normalizer(norm='l2')\n",
    "print(normalizer.fit_transform(df))"
   ]
  },
  {
   "cell_type": "markdown",
   "metadata": {},
   "source": [
    "#  Lets deal with 'Class' column:***"
   ]
  },
  {
   "cell_type": "code",
   "execution_count": null,
   "metadata": {
    "execution": {
     "iopub.execute_input": "2024-01-29T11:44:11.272343Z",
     "iopub.status.busy": "2024-01-29T11:44:11.271618Z",
     "iopub.status.idle": "2024-01-29T11:44:11.2852Z",
     "shell.execute_reply": "2024-01-29T11:44:11.283895Z",
     "shell.execute_reply.started": "2024-01-29T11:44:11.272299Z"
    }
   },
   "outputs": [],
   "source": [
    "# distribution of legitimate transactions & fraudulent transactions\n",
    "df['Class'].value_counts()"
   ]
  },
  {
   "cell_type": "code",
   "execution_count": null,
   "metadata": {
    "execution": {
     "iopub.execute_input": "2024-01-29T11:44:11.287036Z",
     "iopub.status.busy": "2024-01-29T11:44:11.286619Z",
     "iopub.status.idle": "2024-01-29T11:44:11.33217Z",
     "shell.execute_reply": "2024-01-29T11:44:11.330918Z",
     "shell.execute_reply.started": "2024-01-29T11:44:11.287006Z"
    }
   },
   "outputs": [],
   "source": [
    "# separating the data for analysis\n",
    "legit = df[df['Class'] == 0]\n",
    "fraud = df[df['Class'] == 1]"
   ]
  },
  {
   "cell_type": "code",
   "execution_count": null,
   "metadata": {
    "execution": {
     "iopub.execute_input": "2024-01-29T11:44:11.334403Z",
     "iopub.status.busy": "2024-01-29T11:44:11.333666Z",
     "iopub.status.idle": "2024-01-29T11:44:11.820667Z",
     "shell.execute_reply": "2024-01-29T11:44:11.819502Z",
     "shell.execute_reply.started": "2024-01-29T11:44:11.334361Z"
    }
   },
   "outputs": [],
   "source": [
    "# statistical measures of the legit data\n",
    "legit.describe()"
   ]
  },
  {
   "cell_type": "code",
   "execution_count": null,
   "metadata": {
    "execution": {
     "iopub.execute_input": "2024-01-29T11:44:11.822516Z",
     "iopub.status.busy": "2024-01-29T11:44:11.822146Z",
     "iopub.status.idle": "2024-01-29T11:44:11.84599Z",
     "shell.execute_reply": "2024-01-29T11:44:11.844523Z",
     "shell.execute_reply.started": "2024-01-29T11:44:11.822466Z"
    }
   },
   "outputs": [],
   "source": [
    "legit.Amount.describe()"
   ]
  },
  {
   "cell_type": "code",
   "execution_count": null,
   "metadata": {
    "execution": {
     "iopub.execute_input": "2024-01-29T11:44:11.847705Z",
     "iopub.status.busy": "2024-01-29T11:44:11.847329Z",
     "iopub.status.idle": "2024-01-29T11:44:11.959467Z",
     "shell.execute_reply": "2024-01-29T11:44:11.958247Z",
     "shell.execute_reply.started": "2024-01-29T11:44:11.847673Z"
    }
   },
   "outputs": [],
   "source": [
    "# statistical measures of the fraud data\n",
    "fraud.describe()"
   ]
  },
  {
   "cell_type": "code",
   "execution_count": null,
   "metadata": {
    "execution": {
     "iopub.execute_input": "2024-01-29T11:44:11.96089Z",
     "iopub.status.busy": "2024-01-29T11:44:11.960559Z",
     "iopub.status.idle": "2024-01-29T11:44:11.972305Z",
     "shell.execute_reply": "2024-01-29T11:44:11.97095Z",
     "shell.execute_reply.started": "2024-01-29T11:44:11.960864Z"
    }
   },
   "outputs": [],
   "source": [
    "fraud.Amount.describe()"
   ]
  },
  {
   "cell_type": "code",
   "execution_count": null,
   "metadata": {
    "execution": {
     "iopub.execute_input": "2024-01-29T11:44:11.974069Z",
     "iopub.status.busy": "2024-01-29T11:44:11.973716Z",
     "iopub.status.idle": "2024-01-29T11:44:12.090073Z",
     "shell.execute_reply": "2024-01-29T11:44:12.088761Z",
     "shell.execute_reply.started": "2024-01-29T11:44:11.974041Z"
    }
   },
   "outputs": [],
   "source": [
    "# compare the values for both transactions\n",
    "df.groupby('Class').mean()"
   ]
  },
  {
   "cell_type": "code",
   "execution_count": null,
   "metadata": {
    "execution": {
     "iopub.execute_input": "2024-01-29T11:44:12.092003Z",
     "iopub.status.busy": "2024-01-29T11:44:12.091564Z",
     "iopub.status.idle": "2024-01-29T11:44:12.140043Z",
     "shell.execute_reply": "2024-01-29T11:44:12.138804Z",
     "shell.execute_reply.started": "2024-01-29T11:44:12.091971Z"
    }
   },
   "outputs": [],
   "source": [
    "# Under-Sampling (building sample dataset containing similar distribution of normal transactions and Fraudulent Transactions)\n",
    "legit_sample = legit.sample(n=492)\n",
    "# Concatenating two DataFrames\n",
    "new_df = pd.concat([legit_sample, fraud], axis=0)\n",
    "# Print first 5 rows of the new dataset\n",
    "new_df.head()"
   ]
  },
  {
   "cell_type": "code",
   "execution_count": null,
   "metadata": {
    "execution": {
     "iopub.execute_input": "2024-01-29T11:44:12.142284Z",
     "iopub.status.busy": "2024-01-29T11:44:12.141828Z",
     "iopub.status.idle": "2024-01-29T11:44:12.152337Z",
     "shell.execute_reply": "2024-01-29T11:44:12.151111Z",
     "shell.execute_reply.started": "2024-01-29T11:44:12.142242Z"
    }
   },
   "outputs": [],
   "source": [
    "# Getting the distribution of the classes for the subsample dataset\n",
    "new_df['Class'].value_counts()"
   ]
  },
  {
   "cell_type": "markdown",
   "metadata": {},
   "source": [
    "# Observation Set 2:\n",
    "- I have performed the column of Class is divided into two parts: legit and fraud.\n",
    "- Dividing the class column into two parts resulted in data imbalance, to balance the imbalance I took the sample size of the legitimate part equal to that of the fraud part."
   ]
  },
  {
   "cell_type": "markdown",
   "metadata": {},
   "source": [
    "---"
   ]
  },
  {
   "cell_type": "markdown",
   "metadata": {},
   "source": [
    "# ***4.0 Dealing with missing values:***"
   ]
  },
  {
   "cell_type": "markdown",
   "metadata": {},
   "source": [
    "Dealing with the missing values is one of the most important part of the data wrangling process, we must deal with the missing values in order to get the correct insights from the data."
   ]
  },
  {
   "cell_type": "code",
   "execution_count": null,
   "metadata": {
    "execution": {
     "iopub.execute_input": "2024-01-29T11:44:12.15433Z",
     "iopub.status.busy": "2024-01-29T11:44:12.153892Z",
     "iopub.status.idle": "2024-01-29T11:44:12.182438Z",
     "shell.execute_reply": "2024-01-29T11:44:12.181167Z",
     "shell.execute_reply.started": "2024-01-29T11:44:12.154289Z"
    }
   },
   "outputs": [],
   "source": [
    "# Check Missing Values\n",
    "df.isnull().sum().sort_values(ascending = False)"
   ]
  },
  {
   "cell_type": "markdown",
   "metadata": {},
   "source": [
    "## Milestone 1: There are no missing values in the dataset.\n",
    "---"
   ]
  },
  {
   "cell_type": "markdown",
   "metadata": {},
   "source": [
    "# **5.0 Machine Learning:**"
   ]
  },
  {
   "cell_type": "markdown",
   "metadata": {},
   "source": [
    "# ***5.1 Model Selection and Evaluation:***"
   ]
  },
  {
   "cell_type": "markdown",
   "metadata": {},
   "source": [
    "#### Lets make X and y in our Data:"
   ]
  },
  {
   "cell_type": "code",
   "execution_count": null,
   "metadata": {
    "execution": {
     "iopub.execute_input": "2024-01-29T11:44:12.184751Z",
     "iopub.status.busy": "2024-01-29T11:44:12.18416Z",
     "iopub.status.idle": "2024-01-29T11:44:12.192467Z",
     "shell.execute_reply": "2024-01-29T11:44:12.191284Z",
     "shell.execute_reply.started": "2024-01-29T11:44:12.184711Z"
    }
   },
   "outputs": [],
   "source": [
    "new_df.shape"
   ]
  },
  {
   "cell_type": "code",
   "execution_count": null,
   "metadata": {
    "execution": {
     "iopub.execute_input": "2024-01-29T11:44:12.194654Z",
     "iopub.status.busy": "2024-01-29T11:44:12.194195Z",
     "iopub.status.idle": "2024-01-29T11:44:12.205697Z",
     "shell.execute_reply": "2024-01-29T11:44:12.20471Z",
     "shell.execute_reply.started": "2024-01-29T11:44:12.194612Z"
    }
   },
   "outputs": [],
   "source": [
    "# Splitting the data into Features & Targets\n",
    "X = new_df.drop(columns='Class', axis=1)\n",
    "y = new_df['Class']"
   ]
  },
  {
   "cell_type": "markdown",
   "metadata": {},
   "source": [
    "#### Train_test_split the Data:"
   ]
  },
  {
   "cell_type": "code",
   "execution_count": null,
   "metadata": {
    "execution": {
     "iopub.execute_input": "2024-01-29T11:44:12.207502Z",
     "iopub.status.busy": "2024-01-29T11:44:12.207103Z",
     "iopub.status.idle": "2024-01-29T11:44:12.22222Z",
     "shell.execute_reply": "2024-01-29T11:44:12.221295Z",
     "shell.execute_reply.started": "2024-01-29T11:44:12.20747Z"
    }
   },
   "outputs": [],
   "source": [
    "# Splitting the data into Training data & Testing data\n",
    "X_train, X_test, y_train, y_test = train_test_split(X, y, test_size=0.2, random_state=42)"
   ]
  },
  {
   "cell_type": "code",
   "execution_count": null,
   "metadata": {
    "execution": {
     "iopub.execute_input": "2024-01-29T11:44:12.224121Z",
     "iopub.status.busy": "2024-01-29T11:44:12.223699Z",
     "iopub.status.idle": "2024-01-29T11:44:12.236132Z",
     "shell.execute_reply": "2024-01-29T11:44:12.235003Z",
     "shell.execute_reply.started": "2024-01-29T11:44:12.224081Z"
    }
   },
   "outputs": [],
   "source": [
    "# Check whether the data is splitted in 80:20 ratio\n",
    "print(X.shape, X_train.shape, X_test.shape)"
   ]
  },
  {
   "cell_type": "markdown",
   "metadata": {},
   "source": [
    "#### Call, Train and Predict the Model:"
   ]
  },
  {
   "cell_type": "code",
   "execution_count": null,
   "metadata": {
    "execution": {
     "iopub.execute_input": "2024-01-29T11:44:12.237798Z",
     "iopub.status.busy": "2024-01-29T11:44:12.237435Z",
     "iopub.status.idle": "2024-01-29T11:44:12.248054Z",
     "shell.execute_reply": "2024-01-29T11:44:12.246914Z",
     "shell.execute_reply.started": "2024-01-29T11:44:12.23776Z"
    }
   },
   "outputs": [],
   "source": [
    "# Call the Model\n",
    "model = RandomForestClassifier(random_state=42)"
   ]
  },
  {
   "cell_type": "code",
   "execution_count": null,
   "metadata": {
    "execution": {
     "iopub.execute_input": "2024-01-29T11:44:12.250514Z",
     "iopub.status.busy": "2024-01-29T11:44:12.249783Z",
     "iopub.status.idle": "2024-01-29T11:44:14.574332Z",
     "shell.execute_reply": "2024-01-29T11:44:14.57316Z",
     "shell.execute_reply.started": "2024-01-29T11:44:12.250471Z"
    }
   },
   "outputs": [],
   "source": [
    "# import pipeline\n",
    "from sklearn.pipeline import Pipeline\n",
    "\n",
    "\n",
    "# Create a pipeline for each model\n",
    "pipeline = Pipeline([\n",
    "    ('model', model)\n",
    "    ])\n",
    "    \n",
    "# Perform cross-validation\n",
    "scores = cross_val_score(pipeline, X_train, y_train, cv=5)\n",
    "    \n",
    "# Calculate mean accuracy\n",
    "mean_accuracy = scores.mean()\n",
    "    \n",
    "# Fit the pipeline on the training data\n",
    "pipeline.fit(X_train, y_train)\n",
    "    \n",
    "# Make predictions on the test data\n",
    "y_pred = pipeline.predict(X_test)\n",
    "    \n",
    "# Calculate accuracy score\n",
    "accuracy = accuracy_score(y_test, y_pred)\n",
    "    \n",
    "print(\"Model:\", RandomForestClassifier())\n",
    "print(\"Cross-validation Accuracy:\", mean_accuracy)\n",
    "print(\"Test Accuracy:\", accuracy)\n",
    "print('Recall Score: ', recall_score(y_test, y_pred))\n",
    "print('Precision Score: ', precision_score(y_test, y_pred))\n",
    "print('F1 Score: ', f1_score(y_test, y_pred))\n",
    "\n",
    "best_model = pipeline\n",
    "    \n",
    "# save the best model\n",
    "import pickle\n",
    "pickle.dump(best_model, open('iris_model.dot', 'wb'))"
   ]
  },
  {
   "cell_type": "code",
   "execution_count": null,
   "metadata": {
    "execution": {
     "iopub.execute_input": "2024-01-29T11:44:14.576292Z",
     "iopub.status.busy": "2024-01-29T11:44:14.575943Z",
     "iopub.status.idle": "2024-01-29T11:44:14.928739Z",
     "shell.execute_reply": "2024-01-29T11:44:14.927541Z",
     "shell.execute_reply.started": "2024-01-29T11:44:14.576263Z"
    }
   },
   "outputs": [],
   "source": [
    "#visulalizing the confusion matrix\n",
    "LABELS = ['Normal', 'Fraud'] \n",
    "from sklearn.metrics import confusion_matrix\n",
    "conf_matrix = confusion_matrix(y_test, y_pred) \n",
    "plt.figure(figsize =(12, 12)) \n",
    "sns.heatmap(conf_matrix, xticklabels = LABELS, yticklabels = LABELS, annot = True, fmt =\"d\"); \n",
    "plt.title(\"Confusion matrix\") \n",
    "plt.ylabel('True class') \n",
    "plt.xlabel('Predicted class') \n",
    "plt.show()"
   ]
  },
  {
   "cell_type": "markdown",
   "metadata": {},
   "source": [
    "# ***Feature Engineering:***"
   ]
  },
  {
   "cell_type": "code",
   "execution_count": null,
   "metadata": {
    "execution": {
     "iopub.execute_input": "2024-01-29T11:44:14.931226Z",
     "iopub.status.busy": "2024-01-29T11:44:14.93053Z",
     "iopub.status.idle": "2024-01-29T11:44:14.965987Z",
     "shell.execute_reply": "2024-01-29T11:44:14.964853Z",
     "shell.execute_reply.started": "2024-01-29T11:44:14.931183Z"
    }
   },
   "outputs": [],
   "source": [
    "df_train = new_df.copy()\n",
    "df_train.head()"
   ]
  },
  {
   "cell_type": "code",
   "execution_count": null,
   "metadata": {
    "execution": {
     "iopub.execute_input": "2024-01-29T11:44:14.971832Z",
     "iopub.status.busy": "2024-01-29T11:44:14.971484Z",
     "iopub.status.idle": "2024-01-29T11:44:14.983431Z",
     "shell.execute_reply": "2024-01-29T11:44:14.982272Z",
     "shell.execute_reply.started": "2024-01-29T11:44:14.971801Z"
    }
   },
   "outputs": [],
   "source": [
    "#The function display_feature_importance takes a machine learning model (model) as input and performs feature importance analysis.\n",
    "def display_feature_importance(model,percentage ,top_n=34, plot=False):\n",
    "    # X and y \n",
    "    X = df_train.drop('Class',axis=1)\n",
    "    y = df_train['Class']\n",
    "    \n",
    "    #The model is fitted using the features (X) and the target variable (y), and then the feature importances are calculated.\n",
    "    model.fit(X, y)\n",
    "    \n",
    "    # Get feature importance\n",
    "    feature_importance = model.feature_importances_\n",
    "    feature_names = X.columns\n",
    "    \n",
    "    # Create a DataFrame for better visualization\n",
    "    feature_importance_df = pd.DataFrame({'Feature': feature_names, 'Importance': feature_importance})\n",
    "    \n",
    "    # Sort features by importance\n",
    "    feature_importance_df = feature_importance_df.sort_values(by='Importance', ascending=False)\n",
    "    \n",
    "    # A threshold is calculated based on a specified percentage of the top feature importance.\n",
    "    #  Features with importance above this threshold are selected.\n",
    "    threshold = percentage / 100 * feature_importance_df.iloc[0]['Importance']\n",
    "    \n",
    "    # Select features that meet the threshold\n",
    "    selected_features = feature_importance_df[feature_importance_df['Importance'] >= threshold]['Feature'].tolist()\n",
    "    \n",
    "    #Print Selected Feature \n",
    "    print(\"Selected Features by {} \\n \\n at threshold {}%; {}\".format(model , percentage,selected_features))\n",
    "    \n",
    "    if plot==True:\n",
    "        # Set seaborn color palette to \"viridis\"\n",
    "        sns.set(style=\"whitegrid\", palette=\"viridis\")\n",
    "    \n",
    "        # Display or plot the top features\n",
    "        plt.figure(figsize=(10, 6))\n",
    "        sns.barplot(x='Importance', y='Feature', data=feature_importance_df.head(top_n))\n",
    "        plt.title('Feature Importance for {}'.format(type(model).__name__))\n",
    "        plt.show()\n",
    "        \n",
    "    # Add 'Exited' to the list of selected features\n",
    "    selected_features.append('Class')\n",
    "        \n",
    "    return selected_features"
   ]
  },
  {
   "cell_type": "code",
   "execution_count": null,
   "metadata": {
    "execution": {
     "iopub.execute_input": "2024-01-29T11:44:14.985081Z",
     "iopub.status.busy": "2024-01-29T11:44:14.984761Z",
     "iopub.status.idle": "2024-01-29T11:44:16.102713Z",
     "shell.execute_reply": "2024-01-29T11:44:16.10177Z",
     "shell.execute_reply.started": "2024-01-29T11:44:14.985054Z"
    }
   },
   "outputs": [],
   "source": [
    "# List to store selected features for each model and trial percentage\n",
    "selected_features_xgb = []\n",
    "\n",
    "# Initilize AUC List \n",
    "auc_scores = []\n",
    "\n",
    "# List of trial percentages\n",
    "trial_percentages = [3, 5, 10, 20, 40]\n",
    "\n",
    "# Loop over each trial percentage\n",
    "for percentage in trial_percentages:\n",
    "        # Get selected features for each model\n",
    "        xgb_selected_features = display_feature_importance(XGBClassifier(random_state=42), percentage=percentage)\n",
    "\n",
    "        # Append selected features to the respective lists\n",
    "        selected_features_xgb.append(xgb_selected_features)\n",
    "\n",
    "        # X and y \n",
    "        X = df_train.drop('Class',axis=1)\n",
    "        y = df_train['Class']\n",
    "\n",
    "        # Split the data into training and testing sets\n",
    "        X_train, X_test, y_train, y_test = train_test_split(X, y, test_size=0.3, random_state=42)\n",
    "\n",
    "        # Fit models on training data\n",
    "        xgb_model = XGBClassifier()\n",
    "        xgb_model.fit(X_train[[feature for feature in xgb_selected_features if feature != 'Class']], y_train, verbose=0)\n",
    "\n",
    "        # Predict probabilities on the test set\n",
    "        xgb_pred_proba = xgb_model.predict_proba(X_test[[feature for feature in xgb_selected_features if feature != 'Class']])[:, 1]\n",
    "\n",
    "        # Calculate AUC scores and append to the list\n",
    "        from sklearn.metrics import roc_auc_score\n",
    "\n",
    "        auc_xgb = roc_auc_score(y_test, xgb_pred_proba)\n",
    "        auc_scores.append((auc_xgb,percentage))\n",
    "\n",
    "        # Sorted AUC \n",
    "        sorted_auc = sorted(auc_scores, reverse=True)\n",
    "\n",
    "# Print Each AUC with Percentage \n",
    "for score , percentage in sorted_auc :\n",
    "        print(f'The AUC for {type(xgb_model).__name__ , } \\n with {percentage}% of top features is {score:.4f}')"
   ]
  },
  {
   "cell_type": "code",
   "execution_count": null,
   "metadata": {
    "execution": {
     "iopub.execute_input": "2024-01-29T11:44:16.10784Z",
     "iopub.status.busy": "2024-01-29T11:44:16.107141Z",
     "iopub.status.idle": "2024-01-29T11:44:16.137308Z",
     "shell.execute_reply": "2024-01-29T11:44:16.136464Z",
     "shell.execute_reply.started": "2024-01-29T11:44:16.107804Z"
    }
   },
   "outputs": [],
   "source": [
    "# Impottant Feature Extract Using XGb \n",
    "imp_fea = ['V14', 'V10', 'V4', 'V7', 'V21', 'V8', 'V20', 'V3', 'V5', 'V11', 'V12', 'V26', 'V17','Class']\n",
    "df_train = df_train[imp_fea]\n",
    "df_train.head()"
   ]
  },
  {
   "cell_type": "code",
   "execution_count": null,
   "metadata": {
    "execution": {
     "iopub.execute_input": "2024-01-29T11:44:16.139916Z",
     "iopub.status.busy": "2024-01-29T11:44:16.138927Z",
     "iopub.status.idle": "2024-01-29T11:44:16.147357Z",
     "shell.execute_reply": "2024-01-29T11:44:16.146232Z",
     "shell.execute_reply.started": "2024-01-29T11:44:16.139875Z"
    }
   },
   "outputs": [],
   "source": [
    "df_train.shape"
   ]
  },
  {
   "cell_type": "markdown",
   "metadata": {},
   "source": [
    "# *Important Feature of  Dataset Train RF and XGB with Hyperparameter Tuning:*"
   ]
  },
  {
   "cell_type": "markdown",
   "metadata": {},
   "source": [
    "- **RF**"
   ]
  },
  {
   "cell_type": "code",
   "execution_count": null,
   "metadata": {
    "execution": {
     "iopub.execute_input": "2024-01-29T11:44:16.150172Z",
     "iopub.status.busy": "2024-01-29T11:44:16.149001Z",
     "iopub.status.idle": "2024-01-29T11:44:16.166076Z",
     "shell.execute_reply": "2024-01-29T11:44:16.164914Z",
     "shell.execute_reply.started": "2024-01-29T11:44:16.150131Z"
    }
   },
   "outputs": [],
   "source": [
    "def train_random_forest(data, target):\n",
    "    # Dictionary to store LabelEncoders for each categorical column\n",
    "    label_encoders = {}\n",
    "\n",
    "    # split the data into X and y\n",
    "    X = data.drop(target, axis=1)\n",
    "    y = data[target]\n",
    "\n",
    "    # split the data into train and test\n",
    "    X_train, X_test, y_train, y_test = train_test_split(X, y, test_size=0.3, random_state=0)\n",
    "\n",
    "    # # Scaling Data\n",
    "    # scaler = MinMaxScaler()\n",
    "    # X_train = scaler.fit_transform(X_train)\n",
    "    # X_test = scaler.transform(X_test)\n",
    "\n",
    "    # Define the Random Forest model\n",
    "    rf_model = RandomForestClassifier(random_state=0,class_weight='balanced')\n",
    "\n",
    "    # Define hyperparameters for tuning\n",
    "    param_grid = {\n",
    "        'n_estimators': [50, 100, 150],\n",
    "        'max_depth': [None, 10, 20],\n",
    "        'min_samples_split': [2, 5, 10],\n",
    "        'min_samples_leaf': [1, 2, 4]\n",
    "    }\n",
    "\n",
    "    # Perform GridSearchCV for hyperparameter tuning\n",
    "    grid_search = GridSearchCV(rf_model, param_grid, cv=5, scoring='accuracy')\n",
    "    grid_search.fit(X_train, y_train)\n",
    "\n",
    "    # Get the best model and parameters\n",
    "    best_rf_model = grid_search.best_estimator_\n",
    "    best_params = grid_search.best_params_\n",
    "\n",
    "    # Print the best hyperparameters\n",
    "    print('Best Hyperparameters:')\n",
    "    print(best_params)\n",
    "\n",
    "    # Train the model on the full training set\n",
    "    best_rf_model.fit(X_train, y_train)\n",
    "\n",
    "    # Evaluate the model on the test set\n",
    "    y_pred_rf = best_rf_model.predict(X_test)\n",
    "    accuracy = accuracy_score(y_test, y_pred_rf)\n",
    "    precision = precision_score(y_test, y_pred_rf)\n",
    "    recall = recall_score(y_test, y_pred_rf)\n",
    "\n",
    "    print(f'Accuracy on Test Set: {accuracy:.2f}')\n",
    "    print(f'Precision on Test Set: {precision:.2f}')\n",
    "    print(f'Recall on Test Set: {recall:.2f}')\n",
    "    \n",
    "    #visulalizing the confusion matrix\n",
    "    LABELS = ['Normal', 'Fraud'] \n",
    "    from sklearn.metrics import confusion_matrix\n",
    "    conf_matrix = confusion_matrix(y_test, y_pred_rf) \n",
    "    plt.figure(figsize =(12, 12)) \n",
    "    sns.heatmap(conf_matrix, xticklabels = LABELS, yticklabels = LABELS, annot = True, fmt =\"d\"); \n",
    "    plt.title(\"Confusion matrix\") \n",
    "    plt.ylabel('True class') \n",
    "    plt.xlabel('Predicted class') \n",
    "    plt.show()\n",
    "\n",
    "    return best_rf_model, best_params, accuracy\n"
   ]
  },
  {
   "cell_type": "code",
   "execution_count": null,
   "metadata": {
    "execution": {
     "iopub.execute_input": "2024-01-29T11:44:16.167882Z",
     "iopub.status.busy": "2024-01-29T11:44:16.16742Z",
     "iopub.status.idle": "2024-01-29T11:46:17.290614Z",
     "shell.execute_reply": "2024-01-29T11:46:17.289338Z",
     "shell.execute_reply.started": "2024-01-29T11:44:16.167851Z"
    }
   },
   "outputs": [],
   "source": [
    "train_random_forest(df_train,'Class')"
   ]
  },
  {
   "cell_type": "markdown",
   "metadata": {},
   "source": [
    "- **XGB**"
   ]
  },
  {
   "cell_type": "code",
   "execution_count": null,
   "metadata": {
    "execution": {
     "iopub.execute_input": "2024-01-29T11:46:17.29263Z",
     "iopub.status.busy": "2024-01-29T11:46:17.292257Z",
     "iopub.status.idle": "2024-01-29T11:46:17.307091Z",
     "shell.execute_reply": "2024-01-29T11:46:17.305866Z",
     "shell.execute_reply.started": "2024-01-29T11:46:17.292601Z"
    }
   },
   "outputs": [],
   "source": [
    "def train_xgb_classifier(data, target):\n",
    "    # split the data into X and y\n",
    "    X = data.drop(target, axis=1)\n",
    "    y = data[target]\n",
    "\n",
    "    # split the data into train and test\n",
    "    X_train, X_test, y_train, y_test = train_test_split(X, y, test_size=0.3, random_state=0)\n",
    "\n",
    "    \n",
    "    # # Scaling Data \n",
    "    # scaler = MinMaxScaler()\n",
    "    # X_train = scaler.fit_transform(X_train)\n",
    "    # X_test = scaler.transform(X_test)\n",
    "\n",
    "    # Define the XGBClassifier model\n",
    "    xgb_model = XGBClassifier(random_state=0)\n",
    "\n",
    "    # Define hyperparameters for tuning\n",
    "    param_grid = {\n",
    "        'n_estimators': [50, 100, 150],\n",
    "        'max_depth': [3, 5, 7],\n",
    "        'learning_rate': [0.01, 0.1, 0.2],\n",
    "        'subsample': [0.8, 1.0],\n",
    "        'colsample_bytree': [0.8, 1.0],\n",
    "        'gamma': [0, 1, 2]\n",
    "    }\n",
    "\n",
    "    # Perform GridSearchCV for hyperparameter tuning\n",
    "    grid_search = GridSearchCV(xgb_model, param_grid, cv=5, scoring='accuracy')\n",
    "    grid_search.fit(X_train, y_train)\n",
    "\n",
    "    # Get the best model and parameters\n",
    "    best_xgb_model = grid_search.best_estimator_\n",
    "    best_params = grid_search.best_params_\n",
    "\n",
    "    # Print the best hyperparameters\n",
    "    print('Best Hyperparameters:')\n",
    "    print(best_params)\n",
    "\n",
    "    # Train the model on the full training set\n",
    "    best_xgb_model.fit(X_train, y_train)\n",
    "\n",
    "    # Evaluate the model on the test set\n",
    "    y_pred_xgb = best_xgb_model.predict(X_test)\n",
    "    accuracy = accuracy_score(y_test, y_pred_xgb)\n",
    "    precision = precision_score(y_test, y_pred_xgb)\n",
    "    recall = recall_score(y_test, y_pred_xgb)\n",
    "\n",
    "    print(f'Accuracy on Test Set: {accuracy:.2f}')\n",
    "    print(f'Precision on Test Set: {precision:.2f}')\n",
    "    print(f'Recall on Test Set: {recall:.2f}')\n",
    "    \n",
    "    #visulalizing the confusion matrix\n",
    "    LABELS = ['Normal', 'Fraud'] \n",
    "    from sklearn.metrics import confusion_matrix\n",
    "    conf_matrix = confusion_matrix(y_test, y_pred_xgb) \n",
    "    plt.figure(figsize =(12, 12)) \n",
    "    sns.heatmap(conf_matrix, xticklabels = LABELS, yticklabels = LABELS, annot = True, fmt =\"d\"); \n",
    "    plt.title(\"Confusion matrix\") \n",
    "    plt.ylabel('True class') \n",
    "    plt.xlabel('Predicted class') \n",
    "    plt.show()\n",
    "\n",
    "\n",
    "    return best_xgb_model, best_params"
   ]
  },
  {
   "cell_type": "code",
   "execution_count": null,
   "metadata": {
    "execution": {
     "iopub.execute_input": "2024-01-29T11:46:17.308806Z",
     "iopub.status.busy": "2024-01-29T11:46:17.30848Z",
     "iopub.status.idle": "2024-01-29T11:48:37.796999Z",
     "shell.execute_reply": "2024-01-29T11:48:37.795901Z",
     "shell.execute_reply.started": "2024-01-29T11:46:17.308779Z"
    }
   },
   "outputs": [],
   "source": [
    "train_xgb_classifier(df_train,'Class')"
   ]
  },
  {
   "cell_type": "code",
   "execution_count": null,
   "metadata": {
    "execution": {
     "iopub.execute_input": "2024-01-29T11:48:37.799378Z",
     "iopub.status.busy": "2024-01-29T11:48:37.798827Z",
     "iopub.status.idle": "2024-01-29T11:48:37.805663Z",
     "shell.execute_reply": "2024-01-29T11:48:37.804687Z",
     "shell.execute_reply.started": "2024-01-29T11:48:37.799347Z"
    }
   },
   "outputs": [],
   "source": [
    "# Selcting Best and Highest Accuracy from Above trained Models \n",
    "# XGb Model Classifier\n",
    "# Random Forest\n",
    "models = ['XGB Classifier', 'RandomForestClassifier']\n",
    "accuracy_scores = [accuracy, accuracy]\n",
    "\n",
    "# Find the index of the maximum accuracy\n",
    "best_accuracy_index = accuracy_scores.index(max(accuracy_scores))\n",
    "\n",
    "# Print the best model for accuracy\n",
    "print(f'Best Accuracy: {accuracy_scores[best_accuracy_index]:.2f} with Model: {models[best_accuracy_index]}')"
   ]
  },
  {
   "cell_type": "markdown",
   "metadata": {},
   "source": []
  },
  {
   "cell_type": "markdown",
   "metadata": {},
   "source": [
    "---"
   ]
  },
  {
   "cell_type": "markdown",
   "metadata": {},
   "source": []
  },
  {
   "cell_type": "markdown",
   "metadata": {},
   "source": [
    "---"
   ]
  }
 ],
 "metadata": {
  "kaggle": {
   "accelerator": "none",
   "dataSources": [
    {
     "datasetId": 310,
     "sourceId": 23498,
     "sourceType": "datasetVersion"
    }
   ],
   "dockerImageVersionId": 30635,
   "isGpuEnabled": false,
   "isInternetEnabled": false,
   "language": "python",
   "sourceType": "notebook"
  },
  "kernelspec": {
   "display_name": "Python 3 (ipykernel)",
   "language": "python",
   "name": "python3"
  },
  "language_info": {
   "codemirror_mode": {
    "name": "ipython",
    "version": 3
   },
   "file_extension": ".py",
   "mimetype": "text/x-python",
   "name": "python",
   "nbconvert_exporter": "python",
   "pygments_lexer": "ipython3",
   "version": "3.8.18"
  }
 },
 "nbformat": 4,
 "nbformat_minor": 4
}
